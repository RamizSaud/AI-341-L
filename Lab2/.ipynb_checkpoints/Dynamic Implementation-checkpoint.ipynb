{
 "cells": [
  {
   "cell_type": "code",
   "execution_count": 1,
   "id": "68f2cdab",
   "metadata": {},
   "outputs": [],
   "source": [
    "import numpy as np"
   ]
  },
  {
   "cell_type": "code",
   "execution_count": 157,
   "id": "0d59033e",
   "metadata": {},
   "outputs": [],
   "source": [
    "class NN:\n",
    "    def __init__(self, input_size):\n",
    "        self.input_size = input_size\n",
    "        self.layers = []\n",
    "        self.layer_count = -1\n",
    "        self.lr = 1\n",
    "        \n",
    "    def add_layer(self,neuron_count,activation=\"sigmoid\"):\n",
    "        self.layer_count+=1\n",
    "        if self.layer_count==0:\n",
    "            self.layers.append({'weights':np.random.randn(self.input_size, neuron_count),\n",
    "                                'biases':np.random.randn(neuron_count),\n",
    "                                'activation':activation,\n",
    "                                'neuron_count':neuron_count,\n",
    "                                'weighted_output':0,\n",
    "                                'activated_output':0})\n",
    "        else:\n",
    "            self.layers.append({'weights':np.random.randn(self.layers[self.layer_count-1]['neuron_count'], neuron_count),\n",
    "                                'biases':np.random.randn(neuron_count),\n",
    "                                'activation':activation,\n",
    "                                'neuron_count':neuron_count,\n",
    "                                'weighted_output':0,\n",
    "                                'activated_output':0})\n",
    "            \n",
    "    def sigmoid(self, s, deriv=False):\n",
    "        if (deriv == True):\n",
    "            return s * (1 - s)\n",
    "        return 1/(1 + np.exp(-s))\n",
    "    \n",
    "    def feed_forward(self,X):\n",
    "        for layer in range(self.layer_count+1):\n",
    "            if layer==0:\n",
    "                z = np.dot(X,self.layers[layer]['weights']) #+ self.layers[layer]['biases']\n",
    "                self.layers[layer]['weighted_output'] = z\n",
    "                if self.layers[layer]['activation']==\"sigmoid\":\n",
    "                    self.layers[layer]['activated_output'] = self.sigmoid(z)\n",
    "            else:\n",
    "                z = np.dot(self.layers[layer-1]['activated_output'],self.layers[layer]['weights']) #+ self.layers[layer]['biases']\n",
    "                self.layers[layer]['weighted_output'] = z\n",
    "                if self.layers[layer]['activation']==\"sigmoid\":\n",
    "                    self.layers[layer]['activated_output'] = self.sigmoid(z)\n",
    "        return self.layers[layer]['activated_output']\n",
    "                    \n",
    "    def back_propogation(self,y):\n",
    "        error = ((y - self.layers[self.layer_count]['activated_output'])**2)/2\n",
    "        e_f = -(y - self.layers[self.layer_count]['activated_output'])\n",
    "        for layer in range(self.layer_count,-1,-1):\n",
    "            f_zf = e_f * self.sigmoid(self.layers[layer]['activated_output'],deriv=True)\n",
    "            zf_w = self.layers[layer-1]['activated_output'].T.dot(f_zf)\n",
    "            e_f = f_zf.dot(self.layers[layer]['weights'].T)\n",
    "            self.layers[layer]['weights'] -= self.lr*zf_w\n",
    "        return error\n",
    "            \n",
    "    def fit(self, X, y, batch_size=32, epoch=1000):\n",
    "        for i in range(epoch):\n",
    "            index = list(np.random.randint(X.shape[0],size=batch_size))\n",
    "            batch_X = X[index]\n",
    "            batch_y = y[index]\n",
    "            for X_t,y_t in zip(batch_X,batch_y):\n",
    "                output = self.feed_forward(np.array([X_t]))\n",
    "                error = self.back_propogation(np.array([y_t]))\n",
    "            if (i%100==0):\n",
    "                print(\"MSE: \",error[0][0])\n",
    "        print(\"Actual Output: \",y_t)\n",
    "        print(\"Predicted Output: \",output)"
   ]
  },
  {
   "cell_type": "code",
   "execution_count": 158,
   "id": "0a1f8fa0",
   "metadata": {},
   "outputs": [],
   "source": [
    "X = np.random.randint(5,15,size=10)\n",
    "y = X*2\n",
    "X = X/np.amax(X,axis=0)\n",
    "y = y/np.amax(y,axis=0)"
   ]
  },
  {
   "cell_type": "code",
   "execution_count": 159,
   "id": "9c9cd4fb",
   "metadata": {
    "scrolled": true
   },
   "outputs": [
    {
     "name": "stdout",
     "output_type": "stream",
     "text": [
      "MSE:  0.0011084195574481935\n",
      "MSE:  0.005125678781653571\n",
      "MSE:  0.0006838253019979579\n",
      "MSE:  0.0011510295166095431\n",
      "MSE:  0.0014203205796609858\n",
      "MSE:  0.0008138254839756582\n",
      "MSE:  1.615574149585532e-05\n",
      "MSE:  0.00028082735393211814\n",
      "MSE:  0.0005744744335797281\n",
      "MSE:  0.0005506540919041883\n",
      "Actual Output:  [0.92307692]\n",
      "Predicted Output:  [[0.88301092]]\n"
     ]
    }
   ],
   "source": [
    "nn = NN(1)\n",
    "nn.add_layer(3)\n",
    "nn.add_layer(1)\n",
    "nn.fit(X.reshape(X.shape[0],1),y.reshape(y.shape[0],1))"
   ]
  },
  {
   "cell_type": "code",
   "execution_count": 41,
   "id": "7d87e1c5",
   "metadata": {},
   "outputs": [
    {
     "data": {
      "text/plain": [
       "{1: [array([[0.33200046, 0.38520601, 1.02184228]]),\n",
       "  array([1.17247815, 0.21046008, 0.68340846]),\n",
       "  'sigmoid',\n",
       "  3,\n",
       "  array([0.66400091, 0.77041202, 2.04368456]),\n",
       "  array([0.66015856, 0.68361002, 0.88530792])],\n",
       " 2: [array([[ 1.31661442],\n",
       "         [ 2.42101488],\n",
       "         [-0.64614607]]),\n",
       "  array([-0.53192785]),\n",
       "  'sigmoid',\n",
       "  1,\n",
       "  array([1.95216607]),\n",
       "  array([0.87568264])]}"
      ]
     },
     "execution_count": 41,
     "metadata": {},
     "output_type": "execute_result"
    }
   ],
   "source": [
    "nn.layers"
   ]
  },
  {
   "cell_type": "code",
   "execution_count": 148,
   "id": "d4196bb5",
   "metadata": {},
   "outputs": [
    {
     "data": {
      "text/plain": [
       "array([60, 51, 64, 14,  2, 82, 14, 44, 79, 73, 39, 43, 24, 69, 98, 94, 12,\n",
       "       82, 62, 65, 23,  6, 44, 74, 99, 58,  3, 42,  7, 21, 68, 55])"
      ]
     },
     "execution_count": 148,
     "metadata": {},
     "output_type": "execute_result"
    }
   ],
   "source": [
    "X[[59, 50, 63, 13, 1, 81, 13, 43, 78, 72, 38, 42, 23, 68, 97, 93, 11, 81, 61, 64, 22, 5, 43, 73, 98, 57, 2, 41, 6, 20, 67, 54]]"
   ]
  },
  {
   "cell_type": "code",
   "execution_count": 40,
   "id": "1660d9a8",
   "metadata": {},
   "outputs": [
    {
     "name": "stdout",
     "output_type": "stream",
     "text": [
      "[0.66015856 0.68361002 0.88530792]\n",
      "[0.87568264]\n"
     ]
    },
    {
     "data": {
      "text/plain": [
       "array([0.87568264])"
      ]
     },
     "execution_count": 40,
     "metadata": {},
     "output_type": "execute_result"
    }
   ],
   "source": [
    "nn = NN(1)\n",
    "nn.add_layer(3)\n",
    "nn.add_layer(1)\n",
    "nn.feed_forward(np.array([2]))\n",
    "# print(nn.layers)\n",
    "# nn.back_propogation(np.array([92]))\n",
    "# print(nn.layers)"
   ]
  },
  {
   "cell_type": "code",
   "execution_count": 115,
   "id": "0b3b28a5",
   "metadata": {},
   "outputs": [
    {
     "data": {
      "text/plain": [
       "array([[0.5       ],\n",
       "       [0.92857143],\n",
       "       [0.5       ],\n",
       "       [0.35714286],\n",
       "       [1.        ],\n",
       "       [0.35714286],\n",
       "       [0.78571429],\n",
       "       [0.57142857],\n",
       "       [1.        ],\n",
       "       [0.64285714]])"
      ]
     },
     "execution_count": 115,
     "metadata": {},
     "output_type": "execute_result"
    }
   ],
   "source": [
    "X.reshape(X.shape[0],1)"
   ]
  },
  {
   "cell_type": "code",
   "execution_count": 64,
   "id": "928dbdfb",
   "metadata": {},
   "outputs": [
    {
     "data": {
      "text/plain": [
       "array([[3., 0., 0., 3.],\n",
       "       [1., 2., 0., 1.],\n",
       "       [0., 3., 2., 2.]])"
      ]
     },
     "execution_count": 64,
     "metadata": {},
     "output_type": "execute_result"
    }
   ],
   "source": [
    "np.random.randint(0,4,size=(3,4))/1.0"
   ]
  },
  {
   "cell_type": "code",
   "execution_count": 21,
   "id": "bff13ba9",
   "metadata": {},
   "outputs": [
    {
     "name": "stdout",
     "output_type": "stream",
     "text": [
      "9\n",
      "8\n",
      "7\n",
      "6\n",
      "5\n",
      "4\n",
      "3\n",
      "2\n",
      "1\n",
      "0\n"
     ]
    }
   ],
   "source": [
    "for i in range(9,-1,-1):\n",
    "    print(i)"
   ]
  },
  {
   "cell_type": "code",
   "execution_count": 117,
   "id": "7bb173ad",
   "metadata": {},
   "outputs": [
    {
     "data": {
      "text/plain": [
       "array([[0.5       ],\n",
       "       [0.92857143],\n",
       "       [0.5       ],\n",
       "       [0.35714286],\n",
       "       [1.        ],\n",
       "       [0.35714286],\n",
       "       [0.78571429],\n",
       "       [0.57142857],\n",
       "       [1.        ],\n",
       "       [0.64285714]])"
      ]
     },
     "execution_count": 117,
     "metadata": {},
     "output_type": "execute_result"
    }
   ],
   "source": [
    "y.reshape(y.shape[0],1)"
   ]
  },
  {
   "cell_type": "code",
   "execution_count": 144,
   "id": "9a869857",
   "metadata": {},
   "outputs": [],
   "source": [
    "# Problems: was not multiplying with the input of layer but the output of the layer\n",
    "#           the shape of the input and output were incorrect"
   ]
  },
  {
   "cell_type": "code",
   "execution_count": null,
   "id": "1713f646",
   "metadata": {},
   "outputs": [],
   "source": []
  }
 ],
 "metadata": {
  "kernelspec": {
   "display_name": "Python 3 (ipykernel)",
   "language": "python",
   "name": "python3"
  },
  "language_info": {
   "codemirror_mode": {
    "name": "ipython",
    "version": 3
   },
   "file_extension": ".py",
   "mimetype": "text/x-python",
   "name": "python",
   "nbconvert_exporter": "python",
   "pygments_lexer": "ipython3",
   "version": "3.11.3"
  }
 },
 "nbformat": 4,
 "nbformat_minor": 5
}
