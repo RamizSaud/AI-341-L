{
 "cells": [
  {
   "cell_type": "code",
   "execution_count": 25,
   "id": "d54ddb2f",
   "metadata": {},
   "outputs": [],
   "source": [
    "import numpy as np"
   ]
  },
  {
   "cell_type": "markdown",
   "id": "8f6161ba",
   "metadata": {},
   "source": [
    "# Single Perceptron"
   ]
  },
  {
   "cell_type": "code",
   "execution_count": 26,
   "id": "e0cf862d",
   "metadata": {},
   "outputs": [
    {
     "name": "stdout",
     "output_type": "stream",
     "text": [
      "4.1\n"
     ]
    }
   ],
   "source": [
    "inputs = np.array([1,2,3])\n",
    "weights = np.array([0.3,0.9,0.6])\n",
    "bias = 0.2\n",
    "output = np.dot(inputs,weights.T)+bias\n",
    "print(output)"
   ]
  },
  {
   "cell_type": "markdown",
   "id": "58fb1d1d",
   "metadata": {},
   "source": [
    "# Single Layer Perceptron"
   ]
  },
  {
   "cell_type": "code",
   "execution_count": 27,
   "id": "42273367",
   "metadata": {},
   "outputs": [
    {
     "name": "stdout",
     "output_type": "stream",
     "text": [
      "[2.  8.3 7.3]\n"
     ]
    }
   ],
   "source": [
    "inputs = np.array([1,2,3])\n",
    "weights = np.array([[0.3,0.1,0.4],[1.2,0.9,1.1],[3.2,0.4,0.1]])\n",
    "biases = np.array([0.3,2,3])\n",
    "output = np.dot(inputs,weights.T)+biases\n",
    "print(output)"
   ]
  },
  {
   "cell_type": "markdown",
   "id": "9ddcf552",
   "metadata": {},
   "source": [
    "# Multi Layer Perceptron"
   ]
  },
  {
   "cell_type": "code",
   "execution_count": 28,
   "id": "77f248ba",
   "metadata": {},
   "outputs": [
    {
     "name": "stdout",
     "output_type": "stream",
     "text": [
      "[15.08 23.5   8.91]\n"
     ]
    }
   ],
   "source": [
    "inputs1 = np.array([1,2,3])\n",
    "weights1 = np.array([[0.3,0.1,0.4],[1.2,0.9,1.1],[3.2,0.4,0.1]])\n",
    "biases1 = np.array([0.3,2,3])\n",
    "inputs2 = np.dot(inputs1,weights1.T)+biases1\n",
    "weights2 = np.array([[0.7,1.1,0.5],[1.5,1.9,0.1],[1.2,0.4,0.3]])\n",
    "biases2 = np.array([0.9,4,1])\n",
    "output = np.dot(inputs2,weights2.T)+biases2\n",
    "print(output)"
   ]
  },
  {
   "cell_type": "code",
   "execution_count": null,
   "id": "4f8cf005",
   "metadata": {},
   "outputs": [],
   "source": []
  }
 ],
 "metadata": {
  "kernelspec": {
   "display_name": "Python 3 (ipykernel)",
   "language": "python",
   "name": "python3"
  },
  "language_info": {
   "codemirror_mode": {
    "name": "ipython",
    "version": 3
   },
   "file_extension": ".py",
   "mimetype": "text/x-python",
   "name": "python",
   "nbconvert_exporter": "python",
   "pygments_lexer": "ipython3",
   "version": "3.9.16"
  }
 },
 "nbformat": 4,
 "nbformat_minor": 5
}
