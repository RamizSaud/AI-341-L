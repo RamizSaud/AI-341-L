{
 "cells": [
  {
   "cell_type": "markdown",
   "metadata": {
    "id": "mGgnU__kmBq6"
   },
   "source": [
    "# Question 1"
   ]
  },
  {
   "cell_type": "code",
   "execution_count": null,
   "metadata": {
    "id": "ng4owtIyllkl"
   },
   "outputs": [],
   "source": [
    "sentences = [\n",
    "    \"The sun is shining, and the birds are singing.\",\n",
    "    \"This is a beautiful painting of a serene landscape.\",\n",
    "    \"The traffic is unbearable during rush hour.\",\n",
    "    \"I just lost my job, and I don't know what to do.\",\n",
    "    \"She scored the winning goal in the last minute of the game.\",\n",
    "    \"The movie had a slow start, but it got better as it went on.\",\n",
    "    \"I found a wallet on the street, and I'm trying to find its owner.\",\n",
    "    \"The weather forecast predicts rain for the entire weekend.\",\n",
    "    \"I received a promotion at work today, and I'm over the moon.\",\n",
    "    \"The food at the new restaurant was terrible, and the service was slow.\",\n",
    "]"
   ]
  },
  {
   "cell_type": "code",
   "execution_count": null,
   "metadata": {
    "id": "TEd_E0TKvTG_"
   },
   "outputs": [],
   "source": [
    "import numpy as np"
   ]
  },
  {
   "cell_type": "code",
   "execution_count": null,
   "metadata": {
    "id": "JEfcKKKGuwKX"
   },
   "outputs": [],
   "source": [
    "labels = np.array([1,1,0,0,1,1,1,0,1,0])"
   ]
  },
  {
   "cell_type": "markdown",
   "metadata": {
    "id": "Q5sJP_GOmGPR"
   },
   "source": [
    "# Question 2"
   ]
  },
  {
   "cell_type": "code",
   "execution_count": null,
   "metadata": {
    "colab": {
     "base_uri": "https://localhost:8080/"
    },
    "id": "RR6CIrwfl5L7",
    "outputId": "931d8cd0-c6fc-47be-b7e9-bd4a8a00154e"
   },
   "outputs": [
    {
     "name": "stdout",
     "output_type": "stream",
     "text": [
      "Sentence 1: ['sun', 'shining', 'birds', 'singing']\n",
      "Sentence 2: ['beautiful', 'painting', 'serene', 'landscape']\n",
      "Sentence 3: ['traffic', 'unbearable', 'rush', 'hour']\n",
      "Sentence 4: ['lost', 'job', \"n't\", 'know']\n",
      "Sentence 5: ['scored', 'winning', 'goal', 'last', 'minute', 'game']\n",
      "Sentence 6: ['movie', 'slow', 'start', 'got', 'better', 'went']\n",
      "Sentence 7: ['found', 'wallet', 'street', \"'m\", 'trying', 'find', 'owner']\n",
      "Sentence 8: ['weather', 'forecast', 'predicts', 'rain', 'entire', 'weekend']\n",
      "Sentence 9: ['received', 'promotion', 'work', 'today', \"'m\", 'moon']\n",
      "Sentence 10: ['food', 'new', 'restaurant', 'terrible', 'service', 'slow']\n"
     ]
    },
    {
     "name": "stderr",
     "output_type": "stream",
     "text": [
      "[nltk_data] Downloading package stopwords to /root/nltk_data...\n",
      "[nltk_data]   Package stopwords is already up-to-date!\n",
      "[nltk_data] Downloading package punkt to /root/nltk_data...\n",
      "[nltk_data]   Package punkt is already up-to-date!\n"
     ]
    }
   ],
   "source": [
    "import nltk\n",
    "from nltk.corpus import stopwords\n",
    "from nltk.tokenize import word_tokenize\n",
    "import string\n",
    "\n",
    "nltk.download('stopwords')\n",
    "nltk.download('punkt')\n",
    "\n",
    "# Initialize NLTK's stopwords and punctuations\n",
    "stop_words = set(stopwords.words('english'))\n",
    "punctuations = set(string.punctuation)\n",
    "\n",
    "# Function to preprocess text\n",
    "def preprocess_text(text):\n",
    "    # Tokenization and lowercase conversion\n",
    "    words = word_tokenize(text.lower())\n",
    "\n",
    "    # Remove punctuation and stop words\n",
    "    words = [word for word in words if word not in punctuations and word not in stop_words]\n",
    "\n",
    "    return words\n",
    "\n",
    "# Preprocess the sentences\n",
    "preprocessed_sentences = [preprocess_text(sentence) for sentence in sentences]\n",
    "\n",
    "# Print the preprocessed sentences\n",
    "for i, sentence in enumerate(preprocessed_sentences):\n",
    "    print(f\"Sentence {i+1}: {sentence}\")"
   ]
  },
  {
   "cell_type": "code",
   "execution_count": null,
   "metadata": {
    "id": "uFg9R4xznX2b"
   },
   "outputs": [],
   "source": [
    "preprocessed_sentences = [\" \".join(sentence) for sentence in preprocessed_sentences]"
   ]
  },
  {
   "cell_type": "code",
   "execution_count": null,
   "metadata": {
    "id": "CvlKZF50o9CA"
   },
   "outputs": [],
   "source": [
    "from keras.preprocessing.text import one_hot"
   ]
  },
  {
   "cell_type": "code",
   "execution_count": null,
   "metadata": {
    "colab": {
     "base_uri": "https://localhost:8080/"
    },
    "id": "vuOiG8L-o59Y",
    "outputId": "18d1a120-6a24-4c94-a4cc-12ee46abe309"
   },
   "outputs": [
    {
     "name": "stdout",
     "output_type": "stream",
     "text": [
      "[[70, 36, 31, 54], [80, 63, 77, 98], [47, 26, 48, 92], [42, 39, 3, 54], [25, 15, 13, 22, 90, 54], [41, 33, 72, 23, 79, 34], [7, 15, 47, 16, 11, 35, 75], [33, 10, 87, 8, 5, 68], [37, 25, 90, 30, 16, 8], [95, 61, 3, 26, 32, 33]]\n"
     ]
    }
   ],
   "source": [
    "# integer encoding of the documents\n",
    "my_vocab_size = 100\n",
    "encoded_sentences = [one_hot(i, my_vocab_size) for i in preprocessed_sentences]\n",
    "print(encoded_sentences)"
   ]
  },
  {
   "cell_type": "code",
   "execution_count": null,
   "metadata": {
    "colab": {
     "base_uri": "https://localhost:8080/"
    },
    "id": "sUzNP-L4qakP",
    "outputId": "1b58ff58-c8be-4886-8477-72858c5c902d"
   },
   "outputs": [
    {
     "name": "stdout",
     "output_type": "stream",
     "text": [
      "7\n"
     ]
    }
   ],
   "source": [
    "max = 0\n",
    "for i in encoded_sentences:\n",
    "  if len(i)>max:\n",
    "    max = len(i)\n",
    "print(max)"
   ]
  },
  {
   "cell_type": "code",
   "execution_count": null,
   "metadata": {
    "id": "HBj6KRwFqQBl"
   },
   "outputs": [],
   "source": [
    "from keras.preprocessing.sequence import pad_sequences"
   ]
  },
  {
   "cell_type": "code",
   "execution_count": null,
   "metadata": {
    "colab": {
     "base_uri": "https://localhost:8080/"
    },
    "id": "Mp-SZ9jiqOBm",
    "outputId": "65b5e76d-0bdd-4a05-9982-619ac1522bff"
   },
   "outputs": [
    {
     "name": "stdout",
     "output_type": "stream",
     "text": [
      "[[ 0  0  0 70 36 31 54]\n",
      " [ 0  0  0 80 63 77 98]\n",
      " [ 0  0  0 47 26 48 92]\n",
      " [ 0  0  0 42 39  3 54]\n",
      " [ 0 25 15 13 22 90 54]\n",
      " [ 0 41 33 72 23 79 34]\n",
      " [ 7 15 47 16 11 35 75]\n",
      " [ 0 33 10 87  8  5 68]\n",
      " [ 0 37 25 90 30 16  8]\n",
      " [ 0 95 61  3 26 32 33]]\n"
     ]
    }
   ],
   "source": [
    "length = max\n",
    "padded_sentences = pad_sequences(encoded_sentences, maxlen=length, padding='pre')\n",
    "print(padded_sentences)"
   ]
  },
  {
   "cell_type": "markdown",
   "metadata": {
    "id": "_fGlghYAn2gR"
   },
   "source": [
    "# Question 3"
   ]
  },
  {
   "cell_type": "code",
   "execution_count": null,
   "metadata": {
    "id": "X_LNvmjcso8g"
   },
   "outputs": [],
   "source": [
    "from keras.models import Sequential\n",
    "from keras.layers import Dense\n",
    "from keras.layers import Flatten\n",
    "from keras.layers import Embedding"
   ]
  },
  {
   "cell_type": "code",
   "execution_count": null,
   "metadata": {
    "id": "YGrwW2OtpSXs"
   },
   "outputs": [],
   "source": [
    "mymodel = Sequential()\n",
    "mymodel.add(Embedding(my_vocab_size, max, input_length=length))\n",
    "mymodel.add(Flatten())\n",
    "mymodel.add(Dense(1, activation='sigmoid'))"
   ]
  },
  {
   "cell_type": "code",
   "execution_count": null,
   "metadata": {
    "id": "MQlngwGNs4am"
   },
   "outputs": [],
   "source": [
    "mymodel.compile(optimizer='adam', loss='binary_crossentropy', metrics=['accuracy'])"
   ]
  },
  {
   "cell_type": "code",
   "execution_count": null,
   "metadata": {
    "colab": {
     "base_uri": "https://localhost:8080/"
    },
    "id": "BKSIrHNos5sW",
    "outputId": "faf14c3d-8c30-4af1-ef8b-ca8eecee5d49"
   },
   "outputs": [
    {
     "name": "stdout",
     "output_type": "stream",
     "text": [
      "Epoch 1/30\n",
      "1/1 [==============================] - 1s 611ms/step - loss: 0.6961 - accuracy: 0.5000\n",
      "Epoch 2/30\n",
      "1/1 [==============================] - 0s 14ms/step - loss: 0.6929 - accuracy: 0.6000\n",
      "Epoch 3/30\n",
      "1/1 [==============================] - 0s 14ms/step - loss: 0.6897 - accuracy: 0.6000\n",
      "Epoch 4/30\n",
      "1/1 [==============================] - 0s 11ms/step - loss: 0.6865 - accuracy: 0.7000\n",
      "Epoch 5/30\n",
      "1/1 [==============================] - 0s 16ms/step - loss: 0.6833 - accuracy: 0.7000\n",
      "Epoch 6/30\n",
      "1/1 [==============================] - 0s 15ms/step - loss: 0.6802 - accuracy: 0.7000\n",
      "Epoch 7/30\n",
      "1/1 [==============================] - 0s 9ms/step - loss: 0.6770 - accuracy: 0.7000\n",
      "Epoch 8/30\n",
      "1/1 [==============================] - 0s 10ms/step - loss: 0.6739 - accuracy: 0.7000\n",
      "Epoch 9/30\n",
      "1/1 [==============================] - 0s 11ms/step - loss: 0.6708 - accuracy: 0.7000\n",
      "Epoch 10/30\n",
      "1/1 [==============================] - 0s 12ms/step - loss: 0.6677 - accuracy: 0.7000\n",
      "Epoch 11/30\n",
      "1/1 [==============================] - 0s 12ms/step - loss: 0.6645 - accuracy: 0.8000\n",
      "Epoch 12/30\n",
      "1/1 [==============================] - 0s 12ms/step - loss: 0.6614 - accuracy: 0.8000\n",
      "Epoch 13/30\n",
      "1/1 [==============================] - 0s 13ms/step - loss: 0.6583 - accuracy: 0.8000\n",
      "Epoch 14/30\n",
      "1/1 [==============================] - 0s 11ms/step - loss: 0.6551 - accuracy: 0.8000\n",
      "Epoch 15/30\n",
      "1/1 [==============================] - 0s 11ms/step - loss: 0.6520 - accuracy: 0.8000\n",
      "Epoch 16/30\n",
      "1/1 [==============================] - 0s 10ms/step - loss: 0.6489 - accuracy: 0.8000\n",
      "Epoch 17/30\n",
      "1/1 [==============================] - 0s 10ms/step - loss: 0.6457 - accuracy: 0.8000\n",
      "Epoch 18/30\n",
      "1/1 [==============================] - 0s 10ms/step - loss: 0.6425 - accuracy: 0.8000\n",
      "Epoch 19/30\n",
      "1/1 [==============================] - 0s 10ms/step - loss: 0.6394 - accuracy: 0.8000\n",
      "Epoch 20/30\n",
      "1/1 [==============================] - 0s 11ms/step - loss: 0.6362 - accuracy: 0.8000\n",
      "Epoch 21/30\n",
      "1/1 [==============================] - 0s 11ms/step - loss: 0.6330 - accuracy: 0.8000\n",
      "Epoch 22/30\n",
      "1/1 [==============================] - 0s 10ms/step - loss: 0.6298 - accuracy: 0.8000\n",
      "Epoch 23/30\n",
      "1/1 [==============================] - 0s 10ms/step - loss: 0.6266 - accuracy: 0.8000\n",
      "Epoch 24/30\n",
      "1/1 [==============================] - 0s 11ms/step - loss: 0.6233 - accuracy: 0.8000\n",
      "Epoch 25/30\n",
      "1/1 [==============================] - 0s 11ms/step - loss: 0.6201 - accuracy: 0.8000\n",
      "Epoch 26/30\n",
      "1/1 [==============================] - 0s 12ms/step - loss: 0.6168 - accuracy: 0.8000\n",
      "Epoch 27/30\n",
      "1/1 [==============================] - 0s 11ms/step - loss: 0.6135 - accuracy: 0.8000\n",
      "Epoch 28/30\n",
      "1/1 [==============================] - 0s 11ms/step - loss: 0.6102 - accuracy: 0.8000\n",
      "Epoch 29/30\n",
      "1/1 [==============================] - 0s 14ms/step - loss: 0.6068 - accuracy: 0.8000\n",
      "Epoch 30/30\n",
      "1/1 [==============================] - 0s 10ms/step - loss: 0.6035 - accuracy: 0.8000\n"
     ]
    },
    {
     "data": {
      "text/plain": [
       "<keras.src.callbacks.History at 0x7803cc48c850>"
      ]
     },
     "execution_count": 31,
     "metadata": {},
     "output_type": "execute_result"
    }
   ],
   "source": [
    "mymodel.fit(padded_sentences, labels, epochs=30)"
   ]
  },
  {
   "cell_type": "markdown",
   "metadata": {
    "id": "P7s9yQadwhkR"
   },
   "source": [
    "# Question 4"
   ]
  },
  {
   "cell_type": "code",
   "execution_count": null,
   "metadata": {
    "id": "ftue_r5QtC3W"
   },
   "outputs": [],
   "source": [
    "mysent_to_predict = ['The sun is shining, and the birds are singing',\n",
    "        'This is a beautiful painting of a serene landscape']"
   ]
  },
  {
   "cell_type": "code",
   "execution_count": null,
   "metadata": {
    "id": "GDTasSuYx2tt"
   },
   "outputs": [],
   "source": [
    "preprocessed_mysent_to_predict = [preprocess_text(sentence) for sentence in mysent_to_predict]\n",
    "preprocessed_mysent_to_predict = [\" \".join(sentence) for sentence in preprocessed_mysent_to_predict]"
   ]
  },
  {
   "cell_type": "code",
   "execution_count": null,
   "metadata": {
    "colab": {
     "base_uri": "https://localhost:8080/"
    },
    "id": "OB6_uGVfvvp9",
    "outputId": "9a194505-a4ee-4e88-c95c-2fabaf2edacf"
   },
   "outputs": [
    {
     "name": "stdout",
     "output_type": "stream",
     "text": [
      "[[70, 36, 31, 54], [80, 63, 77, 98]]\n"
     ]
    }
   ],
   "source": [
    "# integer encode the documents\n",
    "vocab_size = 100\n",
    "encoded = [one_hot(d, vocab_size) for d in preprocessed_mysent_to_predict]\n",
    "print(encoded)"
   ]
  },
  {
   "cell_type": "code",
   "execution_count": null,
   "metadata": {
    "colab": {
     "base_uri": "https://localhost:8080/"
    },
    "id": "1z3iIOu4wUfb",
    "outputId": "e5ba2473-dd89-49d4-82b6-7f7172169115"
   },
   "outputs": [
    {
     "name": "stdout",
     "output_type": "stream",
     "text": [
      "[[ 0  0  0 70 36 31 54]\n",
      " [ 0  0  0 80 63 77 98]]\n"
     ]
    }
   ],
   "source": [
    "# pad documents to a max length of 5 words\n",
    "max_length = max\n",
    "mypadded = pad_sequences(encoded, maxlen=max_length, padding='pre')\n",
    "print(mypadded)"
   ]
  },
  {
   "cell_type": "code",
   "execution_count": null,
   "metadata": {
    "colab": {
     "base_uri": "https://localhost:8080/"
    },
    "id": "KheSOz7kwXq4",
    "outputId": "077fcd38-44bd-41bd-d85f-b0af8e601877"
   },
   "outputs": [
    {
     "name": "stdout",
     "output_type": "stream",
     "text": [
      "1/1 [==============================] - 0s 25ms/step\n",
      "[1, 1]\n"
     ]
    }
   ],
   "source": [
    "predictions = mymodel.predict(mypadded)\n",
    "\n",
    "# Define a threshold for classification (e.g., 0.5)\n",
    "threshold = 0.5\n",
    "\n",
    "# Convert predicted probabilities to binary class labels\n",
    "predicted_classes = [1 if prediction >= threshold else 0 for prediction in predictions]\n",
    "\n",
    "# Print the predicted class labels\n",
    "print(predicted_classes)"
   ]
  },
  {
   "cell_type": "markdown",
   "metadata": {
    "id": "6JDZIZmkwxF3"
   },
   "source": [
    "# Question 5"
   ]
  },
  {
   "cell_type": "code",
   "execution_count": null,
   "metadata": {
    "id": "t24eQIQIxVXL"
   },
   "outputs": [],
   "source": [
    "new_text_data = [\n",
    "    \"The concert was amazing, and the band played all my favorite songs.\",\n",
    "    \"The customer service was very good.\"\n",
    "]\n",
    "pred_labels = np.array([1,1])"
   ]
  },
  {
   "cell_type": "code",
   "execution_count": null,
   "metadata": {
    "id": "x97UzWG5yQOt"
   },
   "outputs": [],
   "source": [
    "preprocessed_new_text_data = [preprocess_text(sentence) for sentence in new_text_data]\n",
    "preprocessed_new_text_data = [\" \".join(sentence) for sentence in preprocessed_new_text_data]"
   ]
  },
  {
   "cell_type": "code",
   "execution_count": null,
   "metadata": {
    "colab": {
     "base_uri": "https://localhost:8080/"
    },
    "id": "_yv1bFmzydEd",
    "outputId": "d5ac07be-f394-4c54-8e55-596921db3180"
   },
   "outputs": [
    {
     "name": "stdout",
     "output_type": "stream",
     "text": [
      "[[83, 2, 73, 71, 44, 21], [75, 32, 73]]\n"
     ]
    }
   ],
   "source": [
    "vocab_size = 100\n",
    "encoded = [one_hot(d, vocab_size) for d in preprocessed_new_text_data]\n",
    "print(encoded)"
   ]
  },
  {
   "cell_type": "code",
   "execution_count": null,
   "metadata": {
    "colab": {
     "base_uri": "https://localhost:8080/"
    },
    "id": "aTOG8RIIyjG0",
    "outputId": "cfbdc562-329f-4d7d-8989-96825ed90a74"
   },
   "outputs": [
    {
     "name": "stdout",
     "output_type": "stream",
     "text": [
      "[[ 0 83  2 73 71 44 21]\n",
      " [ 0  0  0  0 75 32 73]]\n"
     ]
    }
   ],
   "source": [
    "max_length = max\n",
    "mypadded = pad_sequences(encoded, maxlen=max_length, padding='pre')\n",
    "print(mypadded)"
   ]
  },
  {
   "cell_type": "code",
   "execution_count": null,
   "metadata": {
    "colab": {
     "base_uri": "https://localhost:8080/"
    },
    "id": "6TUMsqwkwB_u",
    "outputId": "13cf26ab-0da8-42e7-fafb-9a09cbd5e25d"
   },
   "outputs": [
    {
     "name": "stdout",
     "output_type": "stream",
     "text": [
      "Accuracy: 100.000000\n"
     ]
    }
   ],
   "source": [
    "# evaluate the model\n",
    "modelloss, modelaccuracy = mymodel.evaluate(mypadded, pred_labels, verbose=0)\n",
    "print('Accuracy: %f' % (modelaccuracy*100))"
   ]
  },
  {
   "cell_type": "code",
   "execution_count": null,
   "metadata": {
    "id": "t41A7OvFwbFY"
   },
   "outputs": [],
   "source": []
  }
 ],
 "metadata": {
  "colab": {
   "provenance": []
  },
  "kernelspec": {
   "display_name": "Python 3 (ipykernel)",
   "language": "python",
   "name": "python3"
  },
  "language_info": {
   "codemirror_mode": {
    "name": "ipython",
    "version": 3
   },
   "file_extension": ".py",
   "mimetype": "text/x-python",
   "name": "python",
   "nbconvert_exporter": "python",
   "pygments_lexer": "ipython3",
   "version": "3.11.3"
  }
 },
 "nbformat": 4,
 "nbformat_minor": 1
}
